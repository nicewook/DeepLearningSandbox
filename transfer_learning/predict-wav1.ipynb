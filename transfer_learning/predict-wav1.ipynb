{
 "cells": [
  {
   "cell_type": "code",
   "execution_count": 1,
   "metadata": {},
   "outputs": [
    {
     "name": "stderr",
     "output_type": "stream",
     "text": [
      "Using TensorFlow backend.\n"
     ]
    }
   ],
   "source": [
    "import sys\n",
    "import argparse\n",
    "import numpy as np\n",
    "from PIL import Image\n",
    "import requests\n",
    "from io import BytesIO\n",
    "import matplotlib.pyplot as plt\n",
    "\n",
    "from keras.preprocessing import image\n",
    "from keras.models import load_model\n",
    "from keras.applications.inception_v3 import preprocess_input\n",
    "\n",
    "\n",
    "target_size = (229, 229) #fixed size for InceptionV3 architecture"
   ]
  },
  {
   "cell_type": "code",
   "execution_count": 2,
   "metadata": {},
   "outputs": [],
   "source": [
    "def predict(model, img, target_size):\n",
    "  \"\"\"Run model prediction on image\n",
    "  Args:\n",
    "    model: keras model\n",
    "    img: PIL format image\n",
    "    target_size: (w,h) tuple\n",
    "  Returns:\n",
    "    list of predicted labels and their probabilities\n",
    "  \"\"\"\n",
    "  if img.size != target_size:\n",
    "    img = img.resize(target_size)\n",
    "\n",
    "  x = image.img_to_array(img)\n",
    "  x = np.expand_dims(x, axis=0)\n",
    "  x = preprocess_input(x)\n",
    "  preds = model.predict(x)\n",
    "  return preds[0]"
   ]
  },
  {
   "cell_type": "code",
   "execution_count": 9,
   "metadata": {},
   "outputs": [],
   "source": [
    "def plot_preds(image, preds):\n",
    "  \"\"\"Displays image and the top-n predicted probabilities in a bar graph\n",
    "  Args:\n",
    "    image: PIL image\n",
    "    preds: list of predicted labels and their probabilities\n",
    "  \"\"\"\n",
    "  plt.imshow(image)\n",
    "  plt.axis('off')\n",
    "\n",
    "  plt.figure()\n",
    "  labels = (\"bed\",\"bird\",\"cat\",\"dog\",\"down\",\"eight\",\"five\",\"four\",\"go\",\"happy\",\"house\",\"left\",\"marvin\",\"nine\",\"no\",\"off\",\"on\",\"one\",\"right\",\"seven\",\"sheila\",\"six\",\"stop\",\"three\",\"tree\",\"two\",\"up\",\"wow\",\"yes\",\"zero\",)\n",
    "  plt.barh([0, 1], preds, alpha=0.5)\n",
    "  plt.yticks([0, 1], labels)\n",
    "  plt.xlabel('Probability')\n",
    "  plt.xlim(0,1.01)\n",
    "  plt.tight_layout()\n",
    "  plt.show()"
   ]
  },
  {
   "cell_type": "code",
   "execution_count": 10,
   "metadata": {},
   "outputs": [],
   "source": [
    "model = load_model('wav1.model')"
   ]
  },
  {
   "cell_type": "code",
   "execution_count": 20,
   "metadata": {
    "scrolled": true
   },
   "outputs": [
    {
     "name": "stdout",
     "output_type": "stream",
     "text": [
      "1\n"
     ]
    }
   ],
   "source": [
    "img = Image.open('./wav_to_image/wav_to_image/bed/00f0204f_nohash_0.jpg')\n",
    "preds = predict(model, img, target_size)\n",
    "#plot_preds(img, preds)\n",
    "print(np.argmax(preds))"
   ]
  },
  {
   "cell_type": "code",
   "execution_count": 18,
   "metadata": {},
   "outputs": [
    {
     "name": "stdout",
     "output_type": "stream",
     "text": [
      "23\n"
     ]
    }
   ],
   "source": [
    "img = Image.open('./wav_to_image/wav_to_image/three/00b01445_nohash_0.jpg')\n",
    "preds = predict(model, img, target_size)\n",
    "#plot_preds(img, preds)\n",
    "print(np.argmax(preds))"
   ]
  },
  {
   "cell_type": "code",
   "execution_count": 22,
   "metadata": {},
   "outputs": [
    {
     "name": "stdout",
     "output_type": "stream",
     "text": [
      "1\n"
     ]
    }
   ],
   "source": [
    "img = Image.open('./wav_to_image/wav_to_image/bird/00b01445_nohash_0.jpg')\n",
    "preds = predict(model, img, target_size)\n",
    "#plot_preds(img, preds)\n",
    "print(np.argmax(preds))"
   ]
  },
  {
   "cell_type": "code",
   "execution_count": 23,
   "metadata": {},
   "outputs": [
    {
     "name": "stdout",
     "output_type": "stream",
     "text": [
      "0\n"
     ]
    }
   ],
   "source": [
    "img = Image.open('./wav_to_image/wav_to_image/bed/0a7c2a8d_nohash_0.jpg')\n",
    "preds = predict(model, img, target_size)\n",
    "#plot_preds(img, preds)\n",
    "print(np.argmax(preds))"
   ]
  }
 ],
 "metadata": {
  "kernelspec": {
   "display_name": "Python 3",
   "language": "python",
   "name": "python3"
  },
  "language_info": {
   "codemirror_mode": {
    "name": "ipython",
    "version": 3
   },
   "file_extension": ".py",
   "mimetype": "text/x-python",
   "name": "python",
   "nbconvert_exporter": "python",
   "pygments_lexer": "ipython3",
   "version": "3.5.2"
  }
 },
 "nbformat": 4,
 "nbformat_minor": 2
}
